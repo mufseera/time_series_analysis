{
 "cells": [
  {
   "cell_type": "code",
   "execution_count": 109,
   "id": "e363c011",
   "metadata": {},
   "outputs": [],
   "source": [
    "import pandas as pd\n",
    "import numpy as np\n",
    "import matplotlib.pyplot as plt\n",
    "import warnings\n",
    "warnings.filterwarnings(\"ignore\")\n",
    "from sklearn.preprocessing import MinMaxScaler\n",
    "from keras.layers import Dense,LSTM,Flatten\n",
    "from keras.layers import Dropout\n",
    "from keras.models import Sequential"
   ]
  },
  {
   "cell_type": "code",
   "execution_count": 110,
   "id": "5b2e6a39",
   "metadata": {},
   "outputs": [],
   "source": [
    "df=pd.read_csv(\"train_data.csv\")"
   ]
  },
  {
   "cell_type": "code",
   "execution_count": 111,
   "id": "636d0a83",
   "metadata": {},
   "outputs": [
    {
     "data": {
      "text/html": [
       "<div>\n",
       "<style scoped>\n",
       "    .dataframe tbody tr th:only-of-type {\n",
       "        vertical-align: middle;\n",
       "    }\n",
       "\n",
       "    .dataframe tbody tr th {\n",
       "        vertical-align: top;\n",
       "    }\n",
       "\n",
       "    .dataframe thead th {\n",
       "        text-align: right;\n",
       "    }\n",
       "</style>\n",
       "<table border=\"1\" class=\"dataframe\">\n",
       "  <thead>\n",
       "    <tr style=\"text-align: right;\">\n",
       "      <th></th>\n",
       "      <th>Date</th>\n",
       "      <th>Open</th>\n",
       "      <th>High</th>\n",
       "      <th>Low</th>\n",
       "      <th>Close</th>\n",
       "      <th>Volume</th>\n",
       "    </tr>\n",
       "  </thead>\n",
       "  <tbody>\n",
       "    <tr>\n",
       "      <th>0</th>\n",
       "      <td>1/3/2012</td>\n",
       "      <td>325.25</td>\n",
       "      <td>332.83</td>\n",
       "      <td>324.97</td>\n",
       "      <td>663.59</td>\n",
       "      <td>7,380,500</td>\n",
       "    </tr>\n",
       "    <tr>\n",
       "      <th>1</th>\n",
       "      <td>1/4/2012</td>\n",
       "      <td>331.27</td>\n",
       "      <td>333.87</td>\n",
       "      <td>329.08</td>\n",
       "      <td>666.45</td>\n",
       "      <td>5,749,400</td>\n",
       "    </tr>\n",
       "    <tr>\n",
       "      <th>2</th>\n",
       "      <td>1/5/2012</td>\n",
       "      <td>329.83</td>\n",
       "      <td>330.75</td>\n",
       "      <td>326.89</td>\n",
       "      <td>657.21</td>\n",
       "      <td>6,590,300</td>\n",
       "    </tr>\n",
       "    <tr>\n",
       "      <th>3</th>\n",
       "      <td>1/6/2012</td>\n",
       "      <td>328.34</td>\n",
       "      <td>328.77</td>\n",
       "      <td>323.68</td>\n",
       "      <td>648.24</td>\n",
       "      <td>5,405,900</td>\n",
       "    </tr>\n",
       "    <tr>\n",
       "      <th>4</th>\n",
       "      <td>1/9/2012</td>\n",
       "      <td>322.04</td>\n",
       "      <td>322.29</td>\n",
       "      <td>309.46</td>\n",
       "      <td>620.76</td>\n",
       "      <td>11,688,800</td>\n",
       "    </tr>\n",
       "  </tbody>\n",
       "</table>\n",
       "</div>"
      ],
      "text/plain": [
       "       Date    Open    High     Low   Close      Volume\n",
       "0  1/3/2012  325.25  332.83  324.97  663.59   7,380,500\n",
       "1  1/4/2012  331.27  333.87  329.08  666.45   5,749,400\n",
       "2  1/5/2012  329.83  330.75  326.89  657.21   6,590,300\n",
       "3  1/6/2012  328.34  328.77  323.68  648.24   5,405,900\n",
       "4  1/9/2012  322.04  322.29  309.46  620.76  11,688,800"
      ]
     },
     "execution_count": 111,
     "metadata": {},
     "output_type": "execute_result"
    }
   ],
   "source": [
    "df.head()"
   ]
  },
  {
   "cell_type": "code",
   "execution_count": 112,
   "id": "6e4d318c",
   "metadata": {},
   "outputs": [],
   "source": [
    "df=df.iloc[:,1:2]"
   ]
  },
  {
   "cell_type": "code",
   "execution_count": 113,
   "id": "4253b897",
   "metadata": {},
   "outputs": [
    {
     "data": {
      "text/html": [
       "<div>\n",
       "<style scoped>\n",
       "    .dataframe tbody tr th:only-of-type {\n",
       "        vertical-align: middle;\n",
       "    }\n",
       "\n",
       "    .dataframe tbody tr th {\n",
       "        vertical-align: top;\n",
       "    }\n",
       "\n",
       "    .dataframe thead th {\n",
       "        text-align: right;\n",
       "    }\n",
       "</style>\n",
       "<table border=\"1\" class=\"dataframe\">\n",
       "  <thead>\n",
       "    <tr style=\"text-align: right;\">\n",
       "      <th></th>\n",
       "      <th>Open</th>\n",
       "    </tr>\n",
       "  </thead>\n",
       "  <tbody>\n",
       "    <tr>\n",
       "      <th>0</th>\n",
       "      <td>325.25</td>\n",
       "    </tr>\n",
       "    <tr>\n",
       "      <th>1</th>\n",
       "      <td>331.27</td>\n",
       "    </tr>\n",
       "    <tr>\n",
       "      <th>2</th>\n",
       "      <td>329.83</td>\n",
       "    </tr>\n",
       "    <tr>\n",
       "      <th>3</th>\n",
       "      <td>328.34</td>\n",
       "    </tr>\n",
       "    <tr>\n",
       "      <th>4</th>\n",
       "      <td>322.04</td>\n",
       "    </tr>\n",
       "    <tr>\n",
       "      <th>...</th>\n",
       "      <td>...</td>\n",
       "    </tr>\n",
       "    <tr>\n",
       "      <th>1253</th>\n",
       "      <td>790.90</td>\n",
       "    </tr>\n",
       "    <tr>\n",
       "      <th>1254</th>\n",
       "      <td>790.68</td>\n",
       "    </tr>\n",
       "    <tr>\n",
       "      <th>1255</th>\n",
       "      <td>793.70</td>\n",
       "    </tr>\n",
       "    <tr>\n",
       "      <th>1256</th>\n",
       "      <td>783.33</td>\n",
       "    </tr>\n",
       "    <tr>\n",
       "      <th>1257</th>\n",
       "      <td>782.75</td>\n",
       "    </tr>\n",
       "  </tbody>\n",
       "</table>\n",
       "<p>1258 rows × 1 columns</p>\n",
       "</div>"
      ],
      "text/plain": [
       "        Open\n",
       "0     325.25\n",
       "1     331.27\n",
       "2     329.83\n",
       "3     328.34\n",
       "4     322.04\n",
       "...      ...\n",
       "1253  790.90\n",
       "1254  790.68\n",
       "1255  793.70\n",
       "1256  783.33\n",
       "1257  782.75\n",
       "\n",
       "[1258 rows x 1 columns]"
      ]
     },
     "execution_count": 113,
     "metadata": {},
     "output_type": "execute_result"
    }
   ],
   "source": [
    "df"
   ]
  },
  {
   "cell_type": "code",
   "execution_count": 114,
   "id": "e1a0edac",
   "metadata": {},
   "outputs": [
    {
     "data": {
      "text/plain": [
       "(1258, 1)"
      ]
     },
     "execution_count": 114,
     "metadata": {},
     "output_type": "execute_result"
    }
   ],
   "source": [
    "df.shape"
   ]
  },
  {
   "cell_type": "code",
   "execution_count": 115,
   "id": "9f12e3a6",
   "metadata": {},
   "outputs": [],
   "source": [
    "scaler=MinMaxScaler()\n",
    "df=scaler.fit_transform(df)"
   ]
  },
  {
   "cell_type": "code",
   "execution_count": 116,
   "id": "50a7ee9a",
   "metadata": {},
   "outputs": [],
   "source": [
    "# creating a data structure with 60 time steps and 1 output\n",
    "x_train=[]\n",
    "y_train=[]\n",
    "for i in range(60,len(df)):\n",
    "    x_train.append(df[i-60:i,0])\n",
    "    y_train.append(df[i,0])"
   ]
  },
  {
   "cell_type": "code",
   "execution_count": 117,
   "id": "6f20e1f8",
   "metadata": {},
   "outputs": [],
   "source": [
    "x_train,y_train=np.array(x_train),np.array(y_train)"
   ]
  },
  {
   "cell_type": "code",
   "execution_count": 118,
   "id": "b2539ac2",
   "metadata": {},
   "outputs": [],
   "source": [
    "# Reshaping\n",
    "x_train=np.reshape(x_train,(x_train.shape[0],x_train.shape[1],1))"
   ]
  },
  {
   "cell_type": "code",
   "execution_count": 119,
   "id": "feb95f14",
   "metadata": {},
   "outputs": [
    {
     "data": {
      "text/plain": [
       "(1198, 60, 1)"
      ]
     },
     "execution_count": 119,
     "metadata": {},
     "output_type": "execute_result"
    }
   ],
   "source": [
    "x_train.shape"
   ]
  },
  {
   "cell_type": "code",
   "execution_count": 120,
   "id": "5637f6e0",
   "metadata": {},
   "outputs": [],
   "source": [
    "# building an RNN\n",
    "model=Sequential()\n",
    "# first lstm layer and adding some dropout regularisation\n",
    "model.add(LSTM(units=50,return_sequences=True,input_shape=(x_train.shape[1],1)))\n",
    "model.add(Dropout(.2))\n",
    "# second lstm layer and adding some dropout\n",
    "model.add(LSTM(units=50,return_sequences=True))\n",
    "model.add(Dropout(.2))\n",
    "# third lstm layer and adding some dropout\n",
    "model.add(LSTM(units=50,return_sequences=True))\n",
    "model.add(Dropout(.2))\n",
    "# fourth lstm layer and adding some dropout\n",
    "model.add(LSTM(units=50))\n",
    "model.add(Dropout(.2))\n",
    "# adding outputlayer\n",
    "model.add(Dense(units=1))"
   ]
  },
  {
   "cell_type": "code",
   "execution_count": 121,
   "id": "6ae979d3",
   "metadata": {},
   "outputs": [],
   "source": [
    "model.compile(optimizer=\"adam\",loss=\"mean_squared_error\")"
   ]
  },
  {
   "cell_type": "code",
   "execution_count": null,
   "id": "69681a18",
   "metadata": {},
   "outputs": [
    {
     "name": "stdout",
     "output_type": "stream",
     "text": [
      "Epoch 1/100\n",
      "38/38 [==============================] - 1s 19ms/step - loss: 0.0946\n",
      "Epoch 2/100\n",
      "38/38 [==============================] - 1s 19ms/step - loss: 0.0079\n",
      "Epoch 3/100\n",
      "38/38 [==============================] - 1s 20ms/step - loss: 0.0068\n",
      "Epoch 4/100\n",
      "38/38 [==============================] - 1s 19ms/step - loss: 0.0072\n",
      "Epoch 5/100\n",
      "38/38 [==============================] - 1s 20ms/step - loss: 0.0077\n",
      "Epoch 6/100\n",
      "38/38 [==============================] - 1s 20ms/step - loss: 0.0085\n",
      "Epoch 7/100\n",
      "38/38 [==============================] - 1s 20ms/step - loss: 0.0071\n",
      "Epoch 8/100\n",
      "38/38 [==============================] - 1s 21ms/step - loss: 0.0081\n",
      "Epoch 9/100\n",
      "38/38 [==============================] - 1s 20ms/step - loss: 0.0097\n",
      "Epoch 10/100\n",
      "38/38 [==============================] - 1s 19ms/step - loss: 0.0072\n",
      "Epoch 11/100\n",
      "38/38 [==============================] - 1s 19ms/step - loss: 0.0065\n",
      "Epoch 12/100\n",
      "38/38 [==============================] - 1s 19ms/step - loss: 0.0068\n",
      "Epoch 13/100\n",
      "38/38 [==============================] - 1s 19ms/step - loss: 0.0073\n",
      "Epoch 14/100\n",
      "38/38 [==============================] - 1s 22ms/step - loss: 0.0072\n",
      "Epoch 15/100\n",
      "38/38 [==============================] - 1s 21ms/step - loss: 0.0066\n",
      "Epoch 16/100\n",
      "38/38 [==============================] - 1s 21ms/step - loss: 0.0069\n",
      "Epoch 17/100\n",
      "38/38 [==============================] - 1s 19ms/step - loss: 0.0068\n",
      "Epoch 18/100\n",
      "38/38 [==============================] - 1s 20ms/step - loss: 0.0067\n",
      "Epoch 19/100\n",
      "38/38 [==============================] - 1s 19ms/step - loss: 0.0071\n",
      "Epoch 20/100\n",
      "38/38 [==============================] - 1s 19ms/step - loss: 0.0053\n",
      "Epoch 21/100\n",
      "38/38 [==============================] - 1s 19ms/step - loss: 0.0069\n",
      "Epoch 22/100\n",
      "38/38 [==============================] - 1s 19ms/step - loss: 0.0059\n",
      "Epoch 23/100\n",
      "38/38 [==============================] - 1s 20ms/step - loss: 0.0061\n",
      "Epoch 24/100\n",
      "38/38 [==============================] - 1s 20ms/step - loss: 0.0053\n",
      "Epoch 25/100\n",
      "38/38 [==============================] - 1s 20ms/step - loss: 0.0054\n",
      "Epoch 26/100\n",
      "38/38 [==============================] - 1s 20ms/step - loss: 0.0051\n",
      "Epoch 27/100\n",
      "38/38 [==============================] - 1s 20ms/step - loss: 0.0051\n",
      "Epoch 28/100\n",
      "38/38 [==============================] - 1s 20ms/step - loss: 0.0058\n",
      "Epoch 29/100\n",
      "38/38 [==============================] - 1s 19ms/step - loss: 0.0048\n",
      "Epoch 30/100\n",
      "38/38 [==============================] - 1s 20ms/step - loss: 0.0046\n",
      "Epoch 31/100\n",
      "38/38 [==============================] - 1s 20ms/step - loss: 0.0048\n",
      "Epoch 32/100\n",
      "38/38 [==============================] - 1s 20ms/step - loss: 0.0047\n",
      "Epoch 33/100\n",
      "38/38 [==============================] - 1s 20ms/step - loss: 0.0052\n",
      "Epoch 34/100\n",
      "22/38 [================>.............] - ETA: 0s - loss: 0.0047"
     ]
    }
   ],
   "source": [
    "model.fit(x_train,y_train,epochs=100,batch_size=32)"
   ]
  },
  {
   "cell_type": "code",
   "execution_count": null,
   "id": "7e183c68",
   "metadata": {},
   "outputs": [],
   "source": [
    "# making the prediction and visualizing the results\n",
    "dataset_test=pd.read_csv(\"test_data.csv\")"
   ]
  },
  {
   "cell_type": "code",
   "execution_count": null,
   "id": "e3e5935c",
   "metadata": {},
   "outputs": [],
   "source": [
    "dataset_test.head()"
   ]
  },
  {
   "cell_type": "code",
   "execution_count": null,
   "id": "9e849e28",
   "metadata": {},
   "outputs": [],
   "source": [
    "dataset_train=pd.read_csv(\"train_data.csv\")"
   ]
  },
  {
   "cell_type": "code",
   "execution_count": null,
   "id": "5dc96c49",
   "metadata": {},
   "outputs": [],
   "source": [
    "total_dataset=pd.concat([dataset_train[\"Open\"],dataset_test[\"Open\"]],axis=0)"
   ]
  },
  {
   "cell_type": "code",
   "execution_count": null,
   "id": "2c544806",
   "metadata": {},
   "outputs": [],
   "source": [
    "total_dataset.shape"
   ]
  },
  {
   "cell_type": "code",
   "execution_count": null,
   "id": "ad5314d5",
   "metadata": {},
   "outputs": [],
   "source": [
    "inputs=total_dataset[len(total_dataset)-len(dataset_test)-60:].values"
   ]
  },
  {
   "cell_type": "code",
   "execution_count": null,
   "id": "efdb2c2c",
   "metadata": {},
   "outputs": [],
   "source": [
    "inputs.shape"
   ]
  },
  {
   "cell_type": "code",
   "execution_count": null,
   "id": "0af32839",
   "metadata": {},
   "outputs": [],
   "source": [
    "inputs=inputs.reshape(-1,1)"
   ]
  },
  {
   "cell_type": "code",
   "execution_count": null,
   "id": "06c1468b",
   "metadata": {},
   "outputs": [],
   "source": [
    "inputs.shape"
   ]
  },
  {
   "cell_type": "code",
   "execution_count": null,
   "id": "3862739f",
   "metadata": {},
   "outputs": [],
   "source": [
    "inputs=scaler.transform(inputs)"
   ]
  },
  {
   "cell_type": "code",
   "execution_count": null,
   "id": "9d24c57e",
   "metadata": {},
   "outputs": [],
   "source": [
    "x_test=[]\n",
    "for i in range(60,80):\n",
    "    x_test.append(inputs[i-60:i,0])"
   ]
  },
  {
   "cell_type": "code",
   "execution_count": null,
   "id": "718f5a98",
   "metadata": {},
   "outputs": [],
   "source": [
    "x_test=np.array(x_test)"
   ]
  },
  {
   "cell_type": "code",
   "execution_count": null,
   "id": "9df1c6d8",
   "metadata": {},
   "outputs": [],
   "source": [
    "x_test=np.reshape(x_test,(x_test.shape[0],x_test.shape[1],1))"
   ]
  },
  {
   "cell_type": "code",
   "execution_count": null,
   "id": "4d4746f7",
   "metadata": {},
   "outputs": [],
   "source": [
    "x_test.shape"
   ]
  },
  {
   "cell_type": "code",
   "execution_count": null,
   "id": "06df245e",
   "metadata": {},
   "outputs": [],
   "source": [
    "predict=model.predict(x_test)\n",
    "predicted_price=scaler.inverse_transform(predict)"
   ]
  },
  {
   "cell_type": "code",
   "execution_count": null,
   "id": "edbe16e8",
   "metadata": {},
   "outputs": [],
   "source": [
    "predicted_price"
   ]
  },
  {
   "cell_type": "code",
   "execution_count": null,
   "id": "3be5c215",
   "metadata": {},
   "outputs": [],
   "source": [
    "real_price=dataset_test.iloc[:,1:2].values"
   ]
  },
  {
   "cell_type": "code",
   "execution_count": null,
   "id": "54fc52a0",
   "metadata": {},
   "outputs": [],
   "source": [
    "# visualising the result\n",
    "plt.plot(real_price,label=\"real google price\")\n",
    "plt.plot(predicted_price,label=\"predicted price\")\n",
    "plt.title(\"google stock price prediction\")\n",
    "plt.xlabel(\"time\")\n",
    "plt.ylabel(\"google stockprice\")\n",
    "plt.legend()\n",
    "plt.show()"
   ]
  },
  {
   "cell_type": "code",
   "execution_count": null,
   "id": "7a11fa39",
   "metadata": {},
   "outputs": [],
   "source": []
  }
 ],
 "metadata": {
  "kernelspec": {
   "display_name": "Python 3",
   "language": "python",
   "name": "python3"
  },
  "language_info": {
   "codemirror_mode": {
    "name": "ipython",
    "version": 3
   },
   "file_extension": ".py",
   "mimetype": "text/x-python",
   "name": "python",
   "nbconvert_exporter": "python",
   "pygments_lexer": "ipython3",
   "version": "3.8.6"
  }
 },
 "nbformat": 4,
 "nbformat_minor": 5
}
